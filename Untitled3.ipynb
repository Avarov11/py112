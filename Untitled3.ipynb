{
 "cells": [
  {
   "cell_type": "code",
   "execution_count": 26,
   "id": "4cc6c6c7",
   "metadata": {},
   "outputs": [
    {
     "name": "stdout",
     "output_type": "stream",
     "text": [
      "(1, 2, 3)\n"
     ]
    }
   ],
   "source": [
    "class point3D():\n",
    "    def __init__(self, x, y, z):\n",
    "        self.x = x\n",
    "        self.y = y\n",
    "        self.z = z\n",
    "    def __repr__(self):\n",
    "            return \"(%d, %d, %d)\" % (self.x, self.y, self.z)\n",
    "my_point = point3D(1,2,3)\n",
    "print (my_point)"
   ]
  },
  {
   "cell_type": "code",
   "execution_count": 40,
   "id": "c4633d87",
   "metadata": {},
   "outputs": [
    {
     "name": "stdout",
     "output_type": "stream",
     "text": [
      "12\n",
      "14\n"
     ]
    }
   ],
   "source": [
    "class rectangle():\n",
    "    def __init__(self,l,w):\n",
    "        self.length = l\n",
    "        self.width  = w\n",
    "        \n",
    "    def rectangle_area(self):\n",
    "        return self.length*self.width\n",
    "    \n",
    "    def rectangle_prem(self):\n",
    "        return 2*(self.length + self.width)\n",
    "    \n",
    "my_rectangle = rectangle(3,4)\n",
    "print (my_rectangle.rectangle_area())\n",
    "print (my_rectangle.rectangle_prem())\n",
    "        "
   ]
  },
  {
   "cell_type": "code",
   "execution_count": 48,
   "id": "7ecfad34",
   "metadata": {},
   "outputs": [
    {
     "name": "stdout",
     "output_type": "stream",
     "text": [
      "outside\n"
     ]
    }
   ],
   "source": [
    "class circle():\n",
    "    def __init__(self,x1,y1,r):\n",
    "        self.o = (x1,y1)\n",
    "        self.r = r\n",
    "    \n",
    "    def area(self):\n",
    "        return 3.14*(self.r)**2\n",
    "    \n",
    "    def prem(self):\n",
    "        return 2*3.14*self.r\n",
    "    \n",
    "    def circleK(self,x2,y2):\n",
    "        q=((x2-self.o[0])**2+(y2-self.o[1])**2)**0.5\n",
    "        if q>self.r:\n",
    "            return\"outside\"\n",
    "        else :\n",
    "            return\"inside\"\n",
    "circle=circle(7,8,10)\n",
    "print(circle.circleK(900,300))\n",
    "              \n",
    "        \n",
    "        "
   ]
  },
  {
   "cell_type": "code",
   "execution_count": 70,
   "id": "5b7b0ffc",
   "metadata": {},
   "outputs": [
    {
     "name": "stdout",
     "output_type": "stream",
     "text": [
      "150\n",
      "130\n"
     ]
    }
   ],
   "source": [
    "class bank():\n",
    "    def __init__(self,b):\n",
    "        self.balance=b\n",
    "    def deposit(self,w):\n",
    "        self.balance = w+self.balance\n",
    "        return self.balance\n",
    "    def withdraw(self,y):\n",
    "        self.balance=self.balance-y\n",
    "        return self.balance\n",
    "balance=bank(50)\n",
    "print(balance.deposit(100))\n",
    "print(balance.withdraw(20))\n",
    "\n",
    "    \n",
    "    \n",
    "    "
   ]
  },
  {
   "cell_type": "code",
   "execution_count": null,
   "id": "3be36513",
   "metadata": {},
   "outputs": [],
   "source": []
  }
 ],
 "metadata": {
  "kernelspec": {
   "display_name": "Python 3 (ipykernel)",
   "language": "python",
   "name": "python3"
  },
  "language_info": {
   "codemirror_mode": {
    "name": "ipython",
    "version": 3
   },
   "file_extension": ".py",
   "mimetype": "text/x-python",
   "name": "python",
   "nbconvert_exporter": "python",
   "pygments_lexer": "ipython3",
   "version": "3.9.12"
  }
 },
 "nbformat": 4,
 "nbformat_minor": 5
}
